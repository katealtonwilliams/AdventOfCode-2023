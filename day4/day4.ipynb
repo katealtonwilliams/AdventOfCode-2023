{
 "cells": [
  {
   "cell_type": "markdown",
   "metadata": {},
   "source": [
    "## Part 1"
   ]
  },
  {
   "cell_type": "code",
   "execution_count": null,
   "metadata": {},
   "outputs": [],
   "source": [
    "with open('real_input.txt') as day4_input:\n",
    "    input_day_4_list = []\n",
    "    for line in day4_input:\n",
    "        line = line.strip()\n",
    "\n",
    "        all_numbers = line.split(':')[1].split('|')\n",
    "        winning_numbers = all_numbers[0].strip().split()\n",
    "        my_numbers = all_numbers[1].strip().split()\n",
    "        input_day_4_list.append([winning_numbers, my_numbers])"
   ]
  },
  {
   "cell_type": "code",
   "execution_count": null,
   "metadata": {},
   "outputs": [],
   "source": [
    "def find_winners(input_list):\n",
    "    total = 0\n",
    "    for card in input_list:\n",
    "       \n",
    "        no_matches = 0\n",
    "        winning_numbers = card[0]\n",
    "        my_numbers = card[1]\n",
    "        for number in my_numbers:\n",
    "            if number in winning_numbers:\n",
    "                \n",
    "                no_matches += 1\n",
    "                \n",
    "        if no_matches > 0:\n",
    "            total += 2 ** (no_matches - 1)\n",
    "    return total\n",
    "       "
   ]
  },
  {
   "cell_type": "code",
   "execution_count": null,
   "metadata": {},
   "outputs": [],
   "source": [
    "find_winners(input_day_4_list)"
   ]
  },
  {
   "cell_type": "markdown",
   "metadata": {},
   "source": [
    "## Part 2"
   ]
  },
  {
   "cell_type": "code",
   "execution_count": 3,
   "metadata": {},
   "outputs": [],
   "source": [
    "with open('real_input.txt') as day4_input:\n",
    "    input_day_4_list = []\n",
    "    for line in day4_input:\n",
    "        line = line.strip()\n",
    "\n",
    "        all_numbers = line.split(':')[1].split('|')\n",
    "        winning_numbers = all_numbers[0].strip().split()\n",
    "        my_numbers = all_numbers[1].strip().split()\n",
    "        input_day_4_list.append([winning_numbers, my_numbers])"
   ]
  },
  {
   "cell_type": "code",
   "execution_count": 4,
   "metadata": {},
   "outputs": [],
   "source": [
    "def find_total(input_list):\n",
    "    \n",
    "    card_dict = {}\n",
    "    for index1, card in enumerate(input_list):\n",
    "        card_dict[index1+1] = 1\n",
    "    \n",
    "    \n",
    "    for index2, card in enumerate(input_list):\n",
    "        no_matches = 0\n",
    "        winning_numbers = card[0]\n",
    "        my_numbers = card[1]\n",
    "        for number in my_numbers:\n",
    "            if number in winning_numbers:\n",
    "                \n",
    "                no_matches += 1\n",
    "        \n",
    "    \n",
    "        for i in range(index2+2, index2+no_matches+2):\n",
    "           \n",
    "            card_dict[i] =  card_dict[i] + card_dict[index2 + 1] \n",
    "          \n",
    "            \n",
    "\n",
    "  \n",
    "    \n",
    "    return(sum(card_dict.values()))\n",
    "\n",
    "        \n",
    "        \n",
    "        \n",
    "        \n",
    "  "
   ]
  },
  {
   "cell_type": "code",
   "execution_count": 5,
   "metadata": {},
   "outputs": [
    {
     "data": {
      "text/plain": [
       "5920640"
      ]
     },
     "execution_count": 5,
     "metadata": {},
     "output_type": "execute_result"
    }
   ],
   "source": [
    "find_total(input_day_4_list)"
   ]
  }
 ],
 "metadata": {
  "kernelspec": {
   "display_name": "advent23_env",
   "language": "python",
   "name": "python3"
  },
  "language_info": {
   "codemirror_mode": {
    "name": "ipython",
    "version": 3
   },
   "file_extension": ".py",
   "mimetype": "text/x-python",
   "name": "python",
   "nbconvert_exporter": "python",
   "pygments_lexer": "ipython3",
   "version": "3.11.5"
  }
 },
 "nbformat": 4,
 "nbformat_minor": 2
}
