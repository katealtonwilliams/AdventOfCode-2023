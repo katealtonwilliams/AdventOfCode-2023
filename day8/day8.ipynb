{
 "cells": [
  {
   "cell_type": "markdown",
   "metadata": {},
   "source": [
    "## Part 1"
   ]
  },
  {
   "cell_type": "code",
   "execution_count": null,
   "metadata": {},
   "outputs": [],
   "source": [
    "with open('real_input.txt') as day8_input:\n",
    "    day8_input_list = []\n",
    "    for line in day8_input:\n",
    "        line = line.strip()\n",
    "        day8_input_list.append(line)\n",
    "    "
   ]
  },
  {
   "cell_type": "code",
   "execution_count": null,
   "metadata": {},
   "outputs": [],
   "source": [
    "def create_nice_input(input_list):\n",
    "    directions_list = [*input_list[0]]\n",
    "    mapping_dict = {}\n",
    "    for mapping in input_list[2:]:\n",
    "        mapping = mapping.split('=')\n",
    "        list_to_convert = mapping[1][2:-1].split(', ')\n",
    "        \n",
    "        mapping_dict[mapping[0].strip()] = tuple(list_to_convert)\n",
    "    \n",
    "    for direction_index, direction in enumerate(directions_list):\n",
    "        if direction == 'L':\n",
    "            directions_list[direction_index] = 0\n",
    "        if direction == 'R':\n",
    "            directions_list[direction_index] = 1\n",
    "\n",
    "    \n",
    "    return directions_list, mapping_dict"
   ]
  },
  {
   "cell_type": "code",
   "execution_count": null,
   "metadata": {},
   "outputs": [],
   "source": [
    "directions_list, mapping_dict = create_nice_input(day8_input_list)"
   ]
  },
  {
   "cell_type": "code",
   "execution_count": null,
   "metadata": {},
   "outputs": [],
   "source": [
    "def find_path_length(directions_list, mapping_dict):\n",
    "    i = 0\n",
    "    found = False\n",
    "    step_total = 0\n",
    "    element = 'AAA'\n",
    "\n",
    "    while found is False:\n",
    "        if i < len(directions_list):\n",
    "            element = mapping_dict[element][directions_list[i]]\n",
    "            i += 1\n",
    "            step_total += 1\n",
    "            if element == 'ZZZ':\n",
    "                found = True\n",
    "        else:\n",
    "            i = 0\n",
    "    return step_total\n"
   ]
  },
  {
   "cell_type": "code",
   "execution_count": null,
   "metadata": {},
   "outputs": [],
   "source": [
    "find_path_length(directions_list, mapping_dict)"
   ]
  },
  {
   "cell_type": "markdown",
   "metadata": {},
   "source": [
    "## Part 2"
   ]
  },
  {
   "cell_type": "code",
   "execution_count": 1,
   "metadata": {},
   "outputs": [],
   "source": [
    "from math import lcm"
   ]
  },
  {
   "cell_type": "code",
   "execution_count": 2,
   "metadata": {},
   "outputs": [],
   "source": [
    "with open('real_input.txt') as day8_part_2_input:\n",
    "    day8_part_2_input_list = []\n",
    "    for line in day8_part_2_input:\n",
    "        line = line.strip()\n",
    "        day8_part_2_input_list.append(line)"
   ]
  },
  {
   "cell_type": "code",
   "execution_count": 3,
   "metadata": {},
   "outputs": [],
   "source": [
    "def get_directions_list(input_list):\n",
    "    directions_list = [*input_list[0]]\n",
    "    \n",
    "    for direction_index, direction in enumerate(directions_list):\n",
    "        if direction == 'L':\n",
    "            directions_list[direction_index] = 0\n",
    "        if direction == 'R':\n",
    "            directions_list[direction_index] = 1\n",
    "\n",
    "    \n",
    "    return directions_list"
   ]
  },
  {
   "cell_type": "code",
   "execution_count": 4,
   "metadata": {},
   "outputs": [],
   "source": [
    "part_2_directions_list = get_directions_list(day8_part_2_input_list)"
   ]
  },
  {
   "cell_type": "code",
   "execution_count": 5,
   "metadata": {},
   "outputs": [],
   "source": [
    "def get_start_elements(input_list):\n",
    "    start_element_list = []\n",
    "    for mapping in input_list[2:]:\n",
    "        mapping = mapping.split(' =')\n",
    "        element = mapping[0]\n",
    "        if element[-1] == 'A':\n",
    "            start_element_list.append(element)\n",
    "    return start_element_list\n",
    "    "
   ]
  },
  {
   "cell_type": "code",
   "execution_count": 6,
   "metadata": {},
   "outputs": [],
   "source": [
    "def get_all_mappings_part_2(input_list):\n",
    "    mapping_dict = {}\n",
    "    for mapping in input_list[2:]:\n",
    "        mapping = mapping.split('=')\n",
    "        list_to_convert = mapping[1][2:-1].split(', ')\n",
    "        \n",
    "        mapping_dict[mapping[0].strip()] = tuple(list_to_convert)\n",
    "\n",
    "\n",
    "    \n",
    "    return mapping_dict"
   ]
  },
  {
   "cell_type": "code",
   "execution_count": 7,
   "metadata": {},
   "outputs": [],
   "source": [
    "part_2_all_mappings_dict = get_all_mappings_part_2(day8_part_2_input_list)"
   ]
  },
  {
   "cell_type": "code",
   "execution_count": 8,
   "metadata": {},
   "outputs": [],
   "source": [
    "start_element_list = get_start_elements(day8_part_2_input_list)"
   ]
  },
  {
   "cell_type": "code",
   "execution_count": 12,
   "metadata": {},
   "outputs": [],
   "source": [
    "def find_path_length_part_2(directions_list, start_element_list, all_mappings_dict):\n",
    "    path_length_list = []\n",
    "   \n",
    "    for start_element in start_element_list:\n",
    "        found = False\n",
    "        i = 0\n",
    "        step_total = 0\n",
    "        element = start_element\n",
    "\n",
    "        while found is False:\n",
    "            if i < len(directions_list):\n",
    "                element = all_mappings_dict[element][directions_list[i]]\n",
    "                i += 1\n",
    "                step_total += 1\n",
    "                if element[-1] == 'Z':\n",
    "                    found = True\n",
    "            else:\n",
    "                i = 0\n",
    "        path_length_list.append(step_total)\n",
    "    return lcm(*path_length_list)"
   ]
  },
  {
   "cell_type": "code",
   "execution_count": 13,
   "metadata": {},
   "outputs": [
    {
     "data": {
      "text/plain": [
       "8906539031197"
      ]
     },
     "execution_count": 13,
     "metadata": {},
     "output_type": "execute_result"
    }
   ],
   "source": [
    "find_path_length_part_2(part_2_directions_list, start_element_list, part_2_all_mappings_dict)"
   ]
  }
 ],
 "metadata": {
  "kernelspec": {
   "display_name": "advent23_env",
   "language": "python",
   "name": "python3"
  },
  "language_info": {
   "codemirror_mode": {
    "name": "ipython",
    "version": 3
   },
   "file_extension": ".py",
   "mimetype": "text/x-python",
   "name": "python",
   "nbconvert_exporter": "python",
   "pygments_lexer": "ipython3",
   "version": "3.11.5"
  }
 },
 "nbformat": 4,
 "nbformat_minor": 2
}
