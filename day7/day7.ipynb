{
 "cells": [
  {
   "cell_type": "markdown",
   "metadata": {},
   "source": [
    "## Part 1"
   ]
  },
  {
   "cell_type": "code",
   "execution_count": null,
   "metadata": {},
   "outputs": [],
   "source": [
    "from collections import Counter"
   ]
  },
  {
   "cell_type": "code",
   "execution_count": null,
   "metadata": {},
   "outputs": [],
   "source": [
    "with open('real_input.txt') as day7_input:\n",
    "    hand_list_input = []\n",
    "    bid_list = []\n",
    "    for line in day7_input:\n",
    "        line = line.strip()\n",
    "        line = line.split()\n",
    "        hand_list_input.append([*line[0]])\n",
    "        bid_list.append(int(line[1]))\n",
    "\n",
    "        \n"
   ]
  },
  {
   "cell_type": "code",
   "execution_count": null,
   "metadata": {},
   "outputs": [],
   "source": [
    "picture_card_dict = {'T':10, 'J':11, 'Q':12, 'K':13, 'A': 14}"
   ]
  },
  {
   "cell_type": "code",
   "execution_count": null,
   "metadata": {},
   "outputs": [],
   "source": [
    "for hand_index, hand in enumerate(hand_list_input):\n",
    "    for card_index, card in enumerate(hand):\n",
    "        try: \n",
    "            hand_list_input[hand_index][card_index] = int(card)\n",
    "        except:\n",
    "            hand_list_input[hand_index][card_index] = picture_card_dict[card]\n"
   ]
  },
  {
   "cell_type": "code",
   "execution_count": null,
   "metadata": {},
   "outputs": [],
   "source": [
    "hand_bid_dict_input = {tuple(hand):bid for hand, bid in zip(hand_list_input, bid_list)}"
   ]
  },
  {
   "cell_type": "code",
   "execution_count": null,
   "metadata": {},
   "outputs": [],
   "source": [
    "def rank_all_hands(hand_bid_dict, hand_list):\n",
    "    total = 0\n",
    "    for hand_index, hand in enumerate(hand_list):\n",
    "    \n",
    "        #count how many of each card in hand\n",
    "        outcome_hand_concat = []\n",
    "        card_count_dict = Counter(hand)\n",
    "        card_count_list = [count for count in card_count_dict.values()]\n",
    "        #sort counts from \n",
    "        card_count_list.sort(reverse=True)\n",
    "    \n",
    "        #if five of a kind add a 7 to the start\n",
    "        if card_count_list[0] == 5:\n",
    "            outcome_hand_concat = [7] + hand \n",
    "        #if four of a kind add a 6 to the start\n",
    "        if card_count_list[0] == 4:\n",
    "            outcome_hand_concat = [6] + hand \n",
    "        #if three is largest match\n",
    "        if card_count_list[0] == 3:\n",
    "            #if full house add 5 to start \n",
    "            if card_count_list[1] == 2:\n",
    "                outcome_hand_concat = [5] + hand \n",
    "            #if three of a kind add 4 to start\n",
    "            if card_count_list[1] == 1:\n",
    "                outcome_hand_concat = [4] + hand \n",
    "        \n",
    "        #if 2 is largest match\n",
    "        if card_count_list[0] == 2:\n",
    "            #if two pairs add 3 to start\n",
    "            if card_count_list[1] == 2:\n",
    "                outcome_hand_concat = [3] + hand \n",
    "            #if one pair add 2 to start\n",
    "            if card_count_list[1] == 1:\n",
    "                outcome_hand_concat = [2] + hand \n",
    "        #if high card add 1 to start\n",
    "        if card_count_list[0] == 1:\n",
    "            outcome_hand_concat = [1] + hand \n",
    "        \n",
    "        hand_list[hand_index] = outcome_hand_concat\n",
    "    #convert to tuples and sort lowest to highest\n",
    "    hand_list_of_tuples = [tuple(hand) for hand in hand_list]\n",
    "    hand_list_of_tuples.sort()\n",
    "    #find rank and multiply by bid\n",
    "    for hand_index, hand in enumerate(hand_list_of_tuples):\n",
    "        bid_score = (hand_index + 1) * hand_bid_dict[hand[1:]]\n",
    "        total += bid_score\n",
    "\n",
    "    return total \n",
    "\n",
    "\n",
    "        \n",
    "        \n"
   ]
  },
  {
   "cell_type": "code",
   "execution_count": null,
   "metadata": {},
   "outputs": [],
   "source": [
    "rank_all_hands(hand_bid_dict_input, hand_list_input)"
   ]
  },
  {
   "cell_type": "markdown",
   "metadata": {},
   "source": [
    "## Part 2"
   ]
  },
  {
   "cell_type": "code",
   "execution_count": 1,
   "metadata": {},
   "outputs": [],
   "source": [
    "from collections import Counter"
   ]
  },
  {
   "cell_type": "code",
   "execution_count": 2,
   "metadata": {},
   "outputs": [],
   "source": [
    "with open('real_input.txt') as day7_input_part_2:\n",
    "    hand_list_input_part_2 = []\n",
    "    bid_list_part_2 = []\n",
    "    for line in day7_input_part_2:\n",
    "        line = line.strip()\n",
    "        line = line.split()\n",
    "        hand_list_input_part_2.append([*line[0]])\n",
    "        bid_list_part_2.append(int(line[1]))"
   ]
  },
  {
   "cell_type": "code",
   "execution_count": 3,
   "metadata": {},
   "outputs": [],
   "source": [
    "picture_card_dict_part_2 = {'T':10, 'J':0, 'Q':12, 'K':13, 'A': 14}"
   ]
  },
  {
   "cell_type": "code",
   "execution_count": 4,
   "metadata": {},
   "outputs": [],
   "source": [
    "for hand_index, hand in enumerate(hand_list_input_part_2):\n",
    "    for card_index, card in enumerate(hand):\n",
    "        try: \n",
    "            hand_list_input_part_2[hand_index][card_index] = int(card)\n",
    "        except:\n",
    "            hand_list_input_part_2[hand_index][card_index] = picture_card_dict_part_2[card]"
   ]
  },
  {
   "cell_type": "code",
   "execution_count": 5,
   "metadata": {},
   "outputs": [],
   "source": [
    "hand_bid_dict_input_part_2 = {tuple(hand):bid for hand, bid in zip(hand_list_input_part_2, bid_list_part_2)}"
   ]
  },
  {
   "cell_type": "code",
   "execution_count": 6,
   "metadata": {},
   "outputs": [],
   "source": [
    "def rank_all_hands_part_2(hand_bid_dict, hand_list):\n",
    "    total = 0\n",
    "    \n",
    "    for hand_index, hand in enumerate(hand_list):\n",
    "        \n",
    "    \n",
    "        #count how many of each card in hand\n",
    "        outcome_hand_concat = []\n",
    "        card_count_dict = Counter(hand)\n",
    "        #count how many jokers\n",
    "        joker_count = card_count_dict[0]\n",
    "        #create a list of no. matches not including jokers \n",
    "        remaining_card_count_list = [card_count_dict[card] for card in card_count_dict if card != 0]\n",
    "        #sort counts from \n",
    "        remaining_card_count_list.sort(reverse=True)\n",
    "\n",
    "        try:\n",
    "            remaining_card_count_list[0] += joker_count\n",
    "        except: \n",
    "            remaining_card_count_list = [5]\n",
    "    \n",
    "        #if five of a kind add a 7 to the start\n",
    "        if remaining_card_count_list[0] == 5:\n",
    "            outcome_hand_concat = [7] + hand \n",
    "        #if four of a kind add a 6 to the start\n",
    "        if remaining_card_count_list[0] == 4:\n",
    "            outcome_hand_concat = [6] + hand \n",
    "        #if three is largest match\n",
    "        if remaining_card_count_list[0] == 3:\n",
    "            #if full house add 5 to start \n",
    "            if remaining_card_count_list[1] == 2:\n",
    "                outcome_hand_concat = [5] + hand \n",
    "            #if three of a kind add 4 to start\n",
    "            if remaining_card_count_list[1] == 1:\n",
    "                outcome_hand_concat = [4] + hand \n",
    "        \n",
    "        #if 2 is largest match\n",
    "        if remaining_card_count_list[0] == 2:\n",
    "            #if two pairs add 3 to start\n",
    "            if remaining_card_count_list[1] == 2:\n",
    "                outcome_hand_concat = [3] + hand \n",
    "            #if one pair add 2 to start\n",
    "            if remaining_card_count_list[1] == 1:\n",
    "                outcome_hand_concat = [2] + hand \n",
    "        #if high card add 1 to start\n",
    "        if remaining_card_count_list[0] == 1:\n",
    "            outcome_hand_concat = [1] + hand \n",
    "        \n",
    "        hand_list[hand_index] = outcome_hand_concat\n",
    "    #convert to tuples and sort lowest to highest\n",
    "    hand_list_of_tuples = [tuple(hand) for hand in hand_list]\n",
    "    hand_list_of_tuples.sort()\n",
    "    #find rank and multiply by bid\n",
    "    for hand_index, hand in enumerate(hand_list_of_tuples):\n",
    "        bid_score = (hand_index + 1) * hand_bid_dict[hand[1:]]\n",
    "        total += bid_score\n",
    "\n",
    "    return total "
   ]
  },
  {
   "cell_type": "code",
   "execution_count": 7,
   "metadata": {},
   "outputs": [
    {
     "data": {
      "text/plain": [
       "250382098"
      ]
     },
     "execution_count": 7,
     "metadata": {},
     "output_type": "execute_result"
    }
   ],
   "source": [
    "rank_all_hands_part_2(hand_bid_dict_input_part_2, hand_list_input_part_2)"
   ]
  }
 ],
 "metadata": {
  "kernelspec": {
   "display_name": "advent23_env",
   "language": "python",
   "name": "python3"
  },
  "language_info": {
   "codemirror_mode": {
    "name": "ipython",
    "version": 3
   },
   "file_extension": ".py",
   "mimetype": "text/x-python",
   "name": "python",
   "nbconvert_exporter": "python",
   "pygments_lexer": "ipython3",
   "version": "3.11.5"
  }
 },
 "nbformat": 4,
 "nbformat_minor": 2
}
