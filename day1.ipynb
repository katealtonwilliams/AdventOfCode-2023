{
 "cells": [
  {
   "cell_type": "code",
   "execution_count": 20,
   "metadata": {},
   "outputs": [],
   "source": [
    "with open('real_input.txt') as day1_input:\n",
    "    day1_input_lines = day1_input.readlines()"
   ]
  },
  {
   "cell_type": "code",
   "execution_count": 21,
   "metadata": {},
   "outputs": [],
   "source": [
    "count = 0\n",
    "for line in day1_input_lines:\n",
    "    line.strip()\n",
    "    first_digit = 0\n",
    "    final_digit = 0\n",
    "    for character in line:\n",
    "        try: \n",
    "            int(character)\n",
    "            first_digit = int(character)\n",
    "            break\n",
    "        \n",
    "        except: \n",
    "            continue\n",
    "    \n",
    "    for character in line[::-1]:\n",
    "\n",
    "        try: \n",
    "            int(character)\n",
    "            final_digit = int(character )\n",
    "            break\n",
    "        \n",
    "        except: \n",
    "            continue\n",
    "    \n",
    "    count += first_digit*10 + final_digit\n",
    "\n"
   ]
  },
  {
   "cell_type": "code",
   "execution_count": 22,
   "metadata": {},
   "outputs": [
    {
     "data": {
      "text/plain": [
       "54605"
      ]
     },
     "execution_count": 22,
     "metadata": {},
     "output_type": "execute_result"
    }
   ],
   "source": [
    "count"
   ]
  },
  {
   "cell_type": "markdown",
   "metadata": {},
   "source": [
    "# Part 2:\n",
    "\n"
   ]
  },
  {
   "cell_type": "code",
   "execution_count": 37,
   "metadata": {},
   "outputs": [],
   "source": [
    "with open('real_input_2.txt') as day1_input:\n",
    "    day1_input_lines_2 = day1_input.readlines()"
   ]
  },
  {
   "cell_type": "code",
   "execution_count": 38,
   "metadata": {},
   "outputs": [],
   "source": [
    "letters_spelled_out = {'one':1, 'two':2, 'three':3, 'four':4, 'five':5, 'six':6, 'seven':7, 'eight':8, 'nine':9}"
   ]
  },
  {
   "cell_type": "code",
   "execution_count": 39,
   "metadata": {},
   "outputs": [],
   "source": [
    "count=0\n",
    "\n",
    "for line in day1_input_lines_2:\n",
    "  \n",
    "    line.strip()\n",
    "    first_digit = 0\n",
    "    final_digit = 0\n",
    "    stop_outer_loop1 = False\n",
    "    stop_outer_loop2 = False\n",
    "    \n",
    "    for i in range(len(line)):\n",
    "        try: \n",
    "            int(line[i])\n",
    "            first_digit = int(line[i])\n",
    "            break\n",
    "        except: \n",
    "            substring1 = line[:i+1]\n",
    "            for key1, value1 in letters_spelled_out.items():\n",
    "                if key1 in substring1:\n",
    "                    first_digit = value1\n",
    "                    stop_outer_loop1 = True\n",
    "                    break\n",
    "        if stop_outer_loop1:\n",
    "            break\n",
    "                \n",
    "        \n",
    "    for j in range(len(line)-1,-1,-1):\n",
    "        try: \n",
    "            int(line[j])\n",
    "            final_digit = int(line[j])\n",
    "            break\n",
    "        except: \n",
    "            substring2 = line[j:]\n",
    "            for key2, value2 in letters_spelled_out.items():\n",
    "                if key2 in substring2:\n",
    "                    final_digit = value2\n",
    "                    stop_outer_loop2 = True\n",
    "                    break\n",
    "        if stop_outer_loop2:\n",
    "            break\n",
    "   \n",
    "\n",
    "    \n",
    "\n",
    "    count += first_digit*10 + final_digit\n",
    "        \n",
    "\n",
    "        \n",
    "\n",
    "        "
   ]
  },
  {
   "cell_type": "code",
   "execution_count": 40,
   "metadata": {},
   "outputs": [
    {
     "data": {
      "text/plain": [
       "55429"
      ]
     },
     "execution_count": 40,
     "metadata": {},
     "output_type": "execute_result"
    }
   ],
   "source": [
    "count"
   ]
  }
 ],
 "metadata": {
  "kernelspec": {
   "display_name": "advent23_env",
   "language": "python",
   "name": "python3"
  },
  "language_info": {
   "codemirror_mode": {
    "name": "ipython",
    "version": 3
   },
   "file_extension": ".py",
   "mimetype": "text/x-python",
   "name": "python",
   "nbconvert_exporter": "python",
   "pygments_lexer": "ipython3",
   "version": "3.11.5"
  }
 },
 "nbformat": 4,
 "nbformat_minor": 2
}
