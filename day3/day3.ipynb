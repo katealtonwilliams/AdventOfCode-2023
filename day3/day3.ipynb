{
 "cells": [
  {
   "cell_type": "markdown",
   "metadata": {},
   "source": [
    "## Part 1"
   ]
  },
  {
   "cell_type": "code",
   "execution_count": 4,
   "metadata": {},
   "outputs": [],
   "source": [
    "with open('real_input.txt') as day3_input:\n",
    "    input_day_3_list = []\n",
    "    for line in day3_input:\n",
    "        string_list = [*line.strip()]\n",
    "        input_day_3_list.append(string_list)"
   ]
  },
  {
   "cell_type": "code",
   "execution_count": 5,
   "metadata": {},
   "outputs": [],
   "source": [
    "def convert_ints(input_list):\n",
    "    for index1, line in enumerate(input_list):\n",
    "        for index2, character in enumerate(line): \n",
    "            try: \n",
    "                input_list[index1][index2] = int(character)\n",
    "                \n",
    "            except:\n",
    "                continue\n",
    "    return input_list"
   ]
  },
  {
   "cell_type": "code",
   "execution_count": 6,
   "metadata": {},
   "outputs": [],
   "source": [
    "refined_input = convert_ints(input_day_3_list)"
   ]
  },
  {
   "cell_type": "code",
   "execution_count": 7,
   "metadata": {},
   "outputs": [],
   "source": [
    "def calculate_total(input_list):\n",
    "    total = 0\n",
    "    for index1, line in enumerate(input_list):\n",
    "        #print(f'this is line {index1}')\n",
    "        start_index = -1\n",
    "        end_index = -1\n",
    "        for index2, character1 in enumerate(line):\n",
    "            \n",
    "            \n",
    "            if type(character1) == int and index2 > end_index:\n",
    "                #print(f'start number found: {character1}')\n",
    "                start_index = index2 \n",
    "                line_to_check = line[start_index + 1:]\n",
    "                #print(f'now checking: {line_to_check}')\n",
    "\n",
    "                for index3, character2 in enumerate(line_to_check):\n",
    "                    if type(character2) != int:\n",
    "                        end_index = start_index + index3 \n",
    "                        number_found_list = line[start_index:end_index+1]\n",
    "                        \n",
    "                        break\n",
    "                    if index3 == len(line_to_check) - 1:\n",
    "                        end_index = start_index + index3 + 1\n",
    "                        number_found_list = line[start_index:end_index+1]\n",
    "                        \n",
    "\n",
    "\n",
    "                    \n",
    "\n",
    "                \n",
    "                number_found = ''\n",
    "                for number in number_found_list:\n",
    "                    number_found += str(number)\n",
    "           \n",
    "                \n",
    "                number_found = int(number_found)\n",
    "\n",
    "               \n",
    "              \n",
    "\n",
    "                #create list of items around it \n",
    "                list_surrounding_items = []\n",
    "               \n",
    "\n",
    "                \n",
    "                for i in range(-1,2):\n",
    "                    for j in range(start_index - 1, end_index+2):\n",
    "                        if index1 + i >= 0 and index1 + i < len(input_list) and j>= 0 and j< len(line):\n",
    "                            list_surrounding_items.append(input_list[index1 + i][j])\n",
    "             \n",
    "\n",
    "                for symbol in list_surrounding_items:\n",
    "                    if type(symbol) != int and symbol != '.':\n",
    "                        total += number_found\n",
    "                       # print(f'{number_found} added')\n",
    "                        \n",
    "                        break\n",
    "    return total\n",
    "                       \n",
    "          \n",
    "                     \n",
    "\n",
    "           "
   ]
  },
  {
   "cell_type": "code",
   "execution_count": 8,
   "metadata": {},
   "outputs": [
    {
     "data": {
      "text/plain": [
       "531561"
      ]
     },
     "execution_count": 8,
     "metadata": {},
     "output_type": "execute_result"
    }
   ],
   "source": [
    "calculate_total(refined_input)"
   ]
  },
  {
   "cell_type": "markdown",
   "metadata": {},
   "source": [
    "## Part 2\n"
   ]
  },
  {
   "cell_type": "code",
   "execution_count": 9,
   "metadata": {},
   "outputs": [],
   "source": [
    "with open('real_input.txt') as day3_input_part_2:\n",
    "    input_day_3_list_part_2 = []\n",
    "    for line in day3_input_part_2:\n",
    "        string_list = [*line.strip()]\n",
    "        input_day_3_list_part_2.append(string_list)"
   ]
  },
  {
   "cell_type": "code",
   "execution_count": 10,
   "metadata": {},
   "outputs": [],
   "source": [
    "def convert_ints(input_list):\n",
    "    for index1, line in enumerate(input_list):\n",
    "        for index2, character in enumerate(line): \n",
    "            try: \n",
    "                input_list[index1][index2] = int(character)\n",
    "                \n",
    "            except:\n",
    "                continue\n",
    "    return input_list"
   ]
  },
  {
   "cell_type": "code",
   "execution_count": 11,
   "metadata": {},
   "outputs": [],
   "source": [
    "refined_input = convert_ints(input_day_3_list_part_2)"
   ]
  },
  {
   "cell_type": "code",
   "execution_count": 13,
   "metadata": {},
   "outputs": [],
   "source": [
    "def calculate_total(input_list):\n",
    "    total = 0\n",
    "    dict_stars = {}\n",
    "    for index1, line in enumerate(input_list):\n",
    "        #print(f'this is line {index1}')\n",
    "        start_index = -1\n",
    "        end_index = -1\n",
    "        for index2, character1 in enumerate(line):\n",
    "            \n",
    "            \n",
    "            if type(character1) == int and index2 > end_index:\n",
    "                #print(f'start number found: {character1}')\n",
    "                start_index = index2 \n",
    "                line_to_check = line[start_index + 1:]\n",
    "                #print(f'now checking: {line_to_check}')\n",
    "\n",
    "                for index3, character2 in enumerate(line_to_check):\n",
    "                    if type(character2) != int or index3 == len(line_to_check):\n",
    "                        end_index = start_index + index3 \n",
    "                        number_found_list = line[start_index:end_index+1]\n",
    "                        \n",
    "                        break\n",
    "                    if index3 == len(line_to_check) - 1:\n",
    "                        end_index = start_index + index3 + 1\n",
    "                        number_found_list = line[start_index:end_index+1]\n",
    "                        \n",
    "\n",
    "\n",
    "                    \n",
    "\n",
    "                \n",
    "                number_found = ''\n",
    "                for number in number_found_list:\n",
    "                    number_found += str(number)\n",
    "           \n",
    "                \n",
    "                number_found = int(number_found)\n",
    "\n",
    "               \n",
    "              \n",
    "\n",
    "                #create list of items around it \n",
    "                \n",
    "               \n",
    "\n",
    "                \n",
    "                for i in range(-1,2):\n",
    "                    for j in range(start_index - 1, end_index+2):\n",
    "                        if index1 + i >= 0 and index1 + i < len(input_list) and j>= 0 and j< len(line) and input_list[index1 + i][j] == '*':\n",
    "                           \n",
    "                            if (index1 + i, j) in dict_stars:\n",
    "                                dict_stars[(index1 + i, j)].append(number_found)\n",
    "                            else: dict_stars[(index1 + i, j)] = [number_found]\n",
    "                            \n",
    "    for value in dict_stars.values():\n",
    "        if len(value) == 2:\n",
    "            total += value[0] * value[1]\n",
    "                    \n",
    "\n",
    "   \n",
    "    return total\n",
    "                    "
   ]
  },
  {
   "cell_type": "code",
   "execution_count": 14,
   "metadata": {},
   "outputs": [
    {
     "data": {
      "text/plain": [
       "83279367"
      ]
     },
     "execution_count": 14,
     "metadata": {},
     "output_type": "execute_result"
    }
   ],
   "source": [
    "calculate_total(refined_input)"
   ]
  }
 ],
 "metadata": {
  "kernelspec": {
   "display_name": "advent23_env",
   "language": "python",
   "name": "python3"
  },
  "language_info": {
   "codemirror_mode": {
    "name": "ipython",
    "version": 3
   },
   "file_extension": ".py",
   "mimetype": "text/x-python",
   "name": "python",
   "nbconvert_exporter": "python",
   "pygments_lexer": "ipython3",
   "version": "3.11.5"
  }
 },
 "nbformat": 4,
 "nbformat_minor": 2
}
