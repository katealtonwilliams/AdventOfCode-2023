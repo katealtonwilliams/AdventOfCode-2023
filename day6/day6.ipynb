{
 "cells": [
  {
   "cell_type": "markdown",
   "metadata": {},
   "source": [
    "## Part 1"
   ]
  },
  {
   "cell_type": "code",
   "execution_count": 47,
   "metadata": {},
   "outputs": [],
   "source": [
    "with open('real_input.txt') as day6_input:\n",
    "    time_distance_list = []\n",
    "    for line in day6_input:\n",
    "        line_list = line.strip()\n",
    "        line_list = line_list.split()\n",
    "        time_distance_list.append(line_list[1:])\n",
    "\n",
    "        \n",
    "       "
   ]
  },
  {
   "cell_type": "code",
   "execution_count": 48,
   "metadata": {},
   "outputs": [],
   "source": [
    "time_distance_tuples = [(int(time), int(distance)) for time, distance in zip(time_distance_list[0], time_distance_list[1])]"
   ]
  },
  {
   "cell_type": "code",
   "execution_count": 49,
   "metadata": {},
   "outputs": [],
   "source": [
    "def how_far_travelled(time_button_held, race_length):\n",
    "    return (race_length - time_button_held) * time_button_held"
   ]
  },
  {
   "cell_type": "code",
   "execution_count": 50,
   "metadata": {},
   "outputs": [],
   "source": [
    "def calculate_total(time_distance_tuples):\n",
    "    total = 1\n",
    "    for entry in time_distance_tuples:\n",
    "        race_length = entry[0]\n",
    "        distance_to_beat = entry[1]\n",
    "        no_ways_to_beat = 0\n",
    "        for held_button_length in range(0, race_length + 1):\n",
    "            if how_far_travelled(held_button_length, race_length) > distance_to_beat:\n",
    "                    no_ways_to_beat += 1\n",
    "        \n",
    "        total *= no_ways_to_beat\n",
    "    return total"
   ]
  },
  {
   "cell_type": "code",
   "execution_count": 51,
   "metadata": {},
   "outputs": [
    {
     "data": {
      "text/plain": [
       "5133600"
      ]
     },
     "execution_count": 51,
     "metadata": {},
     "output_type": "execute_result"
    }
   ],
   "source": [
    "calculate_total(time_distance_tuples)"
   ]
  },
  {
   "cell_type": "markdown",
   "metadata": {},
   "source": [
    "## Part 2"
   ]
  },
  {
   "cell_type": "code",
   "execution_count": 70,
   "metadata": {},
   "outputs": [],
   "source": [
    "with open('real_input.txt') as day6_input:\n",
    "    time_distance_list = []\n",
    "    for line in day6_input:\n",
    "        line_list = line.strip()\n",
    "        line_list = line_list.split()\n",
    "        time_distance_list.append(line_list[1:])\n"
   ]
  },
  {
   "cell_type": "code",
   "execution_count": 71,
   "metadata": {},
   "outputs": [],
   "source": [
    "number = ''\n",
    "for time in time_distance_list[0]:\n",
    "    number += time\n",
    "\n",
    "total_time = int(number)"
   ]
  },
  {
   "cell_type": "code",
   "execution_count": 72,
   "metadata": {},
   "outputs": [],
   "source": [
    "number = ''\n",
    "for distance in time_distance_list[1]:\n",
    "    number += distance\n",
    "\n",
    "total_distance = int(number)"
   ]
  },
  {
   "cell_type": "code",
   "execution_count": 69,
   "metadata": {},
   "outputs": [
    {
     "data": {
      "text/plain": [
       "53897698"
      ]
     },
     "execution_count": 69,
     "metadata": {},
     "output_type": "execute_result"
    }
   ],
   "source": [
    "total_time"
   ]
  },
  {
   "cell_type": "code",
   "execution_count": 73,
   "metadata": {},
   "outputs": [
    {
     "data": {
      "text/plain": [
       "313109012141201"
      ]
     },
     "execution_count": 73,
     "metadata": {},
     "output_type": "execute_result"
    }
   ],
   "source": [
    "total_distance"
   ]
  },
  {
   "cell_type": "code",
   "execution_count": 74,
   "metadata": {},
   "outputs": [],
   "source": [
    "def calculate_total_part_2(total_time, total_distance):\n",
    "    no_ways_to_beat = 0\n",
    "    for held_button_length in range(0, total_time + 1):\n",
    "        if how_far_travelled(held_button_length, total_time) > total_distance:\n",
    "            no_ways_to_beat += 1\n",
    "        \n",
    "        \n",
    "    return no_ways_to_beat"
   ]
  },
  {
   "cell_type": "code",
   "execution_count": 75,
   "metadata": {},
   "outputs": [
    {
     "data": {
      "text/plain": [
       "40651271"
      ]
     },
     "execution_count": 75,
     "metadata": {},
     "output_type": "execute_result"
    }
   ],
   "source": [
    "calculate_total_part_2(total_time, total_distance)"
   ]
  }
 ],
 "metadata": {
  "kernelspec": {
   "display_name": "advent23_env",
   "language": "python",
   "name": "python3"
  },
  "language_info": {
   "codemirror_mode": {
    "name": "ipython",
    "version": 3
   },
   "file_extension": ".py",
   "mimetype": "text/x-python",
   "name": "python",
   "nbconvert_exporter": "python",
   "pygments_lexer": "ipython3",
   "version": "3.11.5"
  }
 },
 "nbformat": 4,
 "nbformat_minor": 2
}
